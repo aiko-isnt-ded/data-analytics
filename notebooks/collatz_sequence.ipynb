{
 "cells": [
  {
   "cell_type": "code",
   "execution_count": 16,
   "metadata": {},
   "outputs": [],
   "source": [
    "def length_collatz_sequence(n):\n",
    "    #Calculates the length of the collatz sequence of a given number\n",
    "    length = 1\n",
    "    while n != 1:\n",
    "        length += 1\n",
    "        #If n is even\n",
    "        if n%2 == 0:\n",
    "            n //= 2\n",
    "        #If n is odd\n",
    "        else:\n",
    "            n *= 3\n",
    "            n += 1\n",
    "    return length"
   ]
  },
  {
   "cell_type": "code",
   "execution_count": 17,
   "metadata": {},
   "outputs": [
    {
     "name": "stdout",
     "output_type": "stream",
     "text": [
      "1\n",
      "2\n",
      "8\n",
      "3\n",
      "6\n",
      "9\n",
      "17\n",
      "4\n",
      "20\n",
      "7\n"
     ]
    }
   ],
   "source": [
    "\n",
    "while (n := input(\"Enter a number: \")) != \"\":\n",
    "    print(length_collatz_sequence(int(n)))"
   ]
  }
 ],
 "metadata": {
  "kernelspec": {
   "display_name": "iteso",
   "language": "python",
   "name": "python3"
  },
  "language_info": {
   "codemirror_mode": {
    "name": "ipython",
    "version": 3
   },
   "file_extension": ".py",
   "mimetype": "text/x-python",
   "name": "python",
   "nbconvert_exporter": "python",
   "pygments_lexer": "ipython3",
   "version": "3.10.13"
  }
 },
 "nbformat": 4,
 "nbformat_minor": 2
}
