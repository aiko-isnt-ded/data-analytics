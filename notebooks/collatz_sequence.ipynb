{
 "cells": [
  {
   "cell_type": "code",
   "execution_count": 69,
   "metadata": {},
   "outputs": [],
   "source": [
    "def max_length_collatz_sequence(a,b):\n",
    "    #Calculates the maximum length of the collatz sequence of numbers within a range\n",
    "    lengths = []\n",
    "    for n in range(a, b+1):\n",
    "        length = 1\n",
    "        while n != 1:\n",
    "            length += 1\n",
    "            #If n is even\n",
    "            if n%2 == 0:\n",
    "                n //= 2\n",
    "            #If n is odd\n",
    "            else:\n",
    "                n *= 3\n",
    "                n += 1\n",
    "        lengths.append(length)\n",
    "    print(f\"The number {a+lengths.index(max(lengths))} has the longest Collatz sequence of length {max(lengths)} in the range {a} to {b}.\")\n",
    "    return "
   ]
  },
  {
   "cell_type": "code",
   "execution_count": 81,
   "metadata": {},
   "outputs": [
    {
     "name": "stdout",
     "output_type": "stream",
     "text": [
      "The number 7 has the longest Collatz sequence of length 17 in the range 5 to 8.\n"
     ]
    }
   ],
   "source": [
    "a = int(input(\"Enter a number: \"))\n",
    "b = int(input(\"Enter a number: \"))\n",
    "max_length_collatz_sequence(a,b)"
   ]
  }
 ],
 "metadata": {
  "kernelspec": {
   "display_name": "iteso",
   "language": "python",
   "name": "python3"
  },
  "language_info": {
   "name": "python",
   "version": "3.10.13"
  }
 },
 "nbformat": 4,
 "nbformat_minor": 2
}
