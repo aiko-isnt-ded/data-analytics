{
 "cells": [
  {
   "cell_type": "code",
   "execution_count": 14,
   "metadata": {},
   "outputs": [],
   "source": [
    "def collatz_sequence(n):\n",
    "    #Calculates the collatz sequence of a given number\n",
    "    list = [n]\n",
    "    while n != 1:\n",
    "        #If n is even\n",
    "        if n%2 == 0:\n",
    "            n //= 2\n",
    "            list.append(n)\n",
    "        #If n is odd\n",
    "        else:\n",
    "            n *= 3\n",
    "            n += 1\n",
    "            list.append(n)\n",
    "    return list"
   ]
  },
  {
   "cell_type": "code",
   "execution_count": 15,
   "metadata": {},
   "outputs": [
    {
     "name": "stdout",
     "output_type": "stream",
     "text": [
      "[1]\n",
      "[2, 1]\n",
      "[3, 10, 5, 16, 8, 4, 2, 1]\n",
      "[3, 10, 5, 16, 8, 4, 2, 1]\n",
      "[4, 2, 1]\n",
      "[5, 16, 8, 4, 2, 1]\n",
      "[6, 3, 10, 5, 16, 8, 4, 2, 1]\n",
      "[7, 22, 11, 34, 17, 52, 26, 13, 40, 20, 10, 5, 16, 8, 4, 2, 1]\n",
      "[8, 4, 2, 1]\n",
      "[9, 28, 14, 7, 22, 11, 34, 17, 52, 26, 13, 40, 20, 10, 5, 16, 8, 4, 2, 1]\n",
      "[10, 5, 16, 8, 4, 2, 1]\n"
     ]
    }
   ],
   "source": [
    "while (n := input(\"Enter a number: \")) != \"\":\n",
    "    print(collatz_sequence(int(n)))\n"
   ]
  }
 ],
 "metadata": {
  "kernelspec": {
   "display_name": "iteso",
   "language": "python",
   "name": "python3"
  },
  "language_info": {
   "codemirror_mode": {
    "name": "ipython",
    "version": 3
   },
   "file_extension": ".py",
   "mimetype": "text/x-python",
   "name": "python",
   "nbconvert_exporter": "python",
   "pygments_lexer": "ipython3",
   "version": "3.10.13"
  }
 },
 "nbformat": 4,
 "nbformat_minor": 2
}
