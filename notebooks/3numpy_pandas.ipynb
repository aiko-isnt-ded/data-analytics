{
 "cells": [
  {
   "cell_type": "code",
   "execution_count": 1,
   "metadata": {},
   "outputs": [
    {
     "name": "stdout",
     "output_type": "stream",
     "text": [
      "Collecting numpy\n",
      "  Downloading numpy-1.26.4-cp310-cp310-win_amd64.whl.metadata (61 kB)\n",
      "     ---------------------------------------- 0.0/61.0 kB ? eta -:--:--\n",
      "     ------ --------------------------------- 10.2/61.0 kB ? eta -:--:--\n",
      "     ------------ ------------------------- 20.5/61.0 kB 222.6 kB/s eta 0:00:01\n",
      "     ------------------- ------------------ 30.7/61.0 kB 220.2 kB/s eta 0:00:01\n",
      "     ------------------------- ------------ 41.0/61.0 kB 219.4 kB/s eta 0:00:01\n",
      "     ------------------------------- ------ 51.2/61.0 kB 239.5 kB/s eta 0:00:01\n",
      "     -------------------------------------- 61.0/61.0 kB 233.0 kB/s eta 0:00:00\n",
      "Collecting pandas\n",
      "  Using cached pandas-2.2.0-cp310-cp310-win_amd64.whl.metadata (19 kB)\n",
      "Requirement already satisfied: python-dateutil>=2.8.2 in d:\\anaconda3\\envs\\iteso\\lib\\site-packages (from pandas) (2.8.2)\n",
      "Collecting pytz>=2020.1 (from pandas)\n",
      "  Downloading pytz-2024.1-py2.py3-none-any.whl.metadata (22 kB)\n",
      "Collecting tzdata>=2022.7 (from pandas)\n",
      "  Using cached tzdata-2023.4-py2.py3-none-any.whl.metadata (1.4 kB)\n",
      "Requirement already satisfied: six>=1.5 in d:\\anaconda3\\envs\\iteso\\lib\\site-packages (from python-dateutil>=2.8.2->pandas) (1.16.0)\n",
      "Downloading numpy-1.26.4-cp310-cp310-win_amd64.whl (15.8 MB)\n",
      "   ---------------------------------------- 0.0/15.8 MB ? eta -:--:--\n",
      "   ---------------------------------------- 0.1/15.8 MB 1.7 MB/s eta 0:00:10\n",
      "    --------------------------------------- 0.3/15.8 MB 2.7 MB/s eta 0:00:06\n",
      "   - -------------------------------------- 0.5/15.8 MB 3.4 MB/s eta 0:00:05\n",
      "   - -------------------------------------- 0.7/15.8 MB 3.7 MB/s eta 0:00:05\n",
      "   -- ------------------------------------- 1.0/15.8 MB 3.9 MB/s eta 0:00:04\n",
      "   --- ------------------------------------ 1.2/15.8 MB 4.4 MB/s eta 0:00:04\n",
      "   --- ------------------------------------ 1.5/15.8 MB 4.5 MB/s eta 0:00:04\n",
      "   ---- ----------------------------------- 1.7/15.8 MB 4.2 MB/s eta 0:00:04\n",
      "   ---- ----------------------------------- 1.9/15.8 MB 4.4 MB/s eta 0:00:04\n",
      "   ----- ---------------------------------- 2.2/15.8 MB 4.6 MB/s eta 0:00:03\n",
      "   ------ --------------------------------- 2.5/15.8 MB 4.8 MB/s eta 0:00:03\n",
      "   ------- -------------------------------- 2.9/15.8 MB 4.9 MB/s eta 0:00:03\n",
      "   ------- -------------------------------- 3.1/15.8 MB 4.9 MB/s eta 0:00:03\n",
      "   -------- ------------------------------- 3.5/15.8 MB 5.1 MB/s eta 0:00:03\n",
      "   --------- ------------------------------ 3.8/15.8 MB 5.1 MB/s eta 0:00:03\n",
      "   ---------- ----------------------------- 4.0/15.8 MB 5.0 MB/s eta 0:00:03\n",
      "   ----------- ---------------------------- 4.4/15.8 MB 5.2 MB/s eta 0:00:03\n",
      "   ------------ --------------------------- 4.8/15.8 MB 5.3 MB/s eta 0:00:03\n",
      "   ------------ --------------------------- 5.0/15.8 MB 5.3 MB/s eta 0:00:03\n",
      "   ------------- -------------------------- 5.3/15.8 MB 5.3 MB/s eta 0:00:02\n",
      "   -------------- ------------------------- 5.6/15.8 MB 5.3 MB/s eta 0:00:02\n",
      "   --------------- ------------------------ 5.9/15.8 MB 5.4 MB/s eta 0:00:02\n",
      "   --------------- ------------------------ 6.2/15.8 MB 5.4 MB/s eta 0:00:02\n",
      "   ---------------- ----------------------- 6.4/15.8 MB 5.4 MB/s eta 0:00:02\n",
      "   ---------------- ----------------------- 6.7/15.8 MB 5.3 MB/s eta 0:00:02\n",
      "   ----------------- ---------------------- 6.9/15.8 MB 5.4 MB/s eta 0:00:02\n",
      "   ------------------ --------------------- 7.1/15.8 MB 5.3 MB/s eta 0:00:02\n",
      "   ------------------ --------------------- 7.5/15.8 MB 5.4 MB/s eta 0:00:02\n",
      "   ------------------- -------------------- 7.8/15.8 MB 5.4 MB/s eta 0:00:02\n",
      "   -------------------- ------------------- 8.1/15.8 MB 5.4 MB/s eta 0:00:02\n",
      "   --------------------- ------------------ 8.4/15.8 MB 5.4 MB/s eta 0:00:02\n",
      "   --------------------- ------------------ 8.6/15.8 MB 5.4 MB/s eta 0:00:02\n",
      "   ---------------------- ----------------- 9.0/15.8 MB 5.5 MB/s eta 0:00:02\n",
      "   ----------------------- ---------------- 9.2/15.8 MB 5.4 MB/s eta 0:00:02\n",
      "   ------------------------ --------------- 9.5/15.8 MB 5.5 MB/s eta 0:00:02\n",
      "   ------------------------ --------------- 9.8/15.8 MB 5.4 MB/s eta 0:00:02\n",
      "   ------------------------- -------------- 10.0/15.8 MB 5.5 MB/s eta 0:00:02\n",
      "   ------------------------- -------------- 10.1/15.8 MB 5.4 MB/s eta 0:00:02\n",
      "   -------------------------- ------------- 10.4/15.8 MB 5.5 MB/s eta 0:00:01\n",
      "   -------------------------- ------------- 10.7/15.8 MB 5.5 MB/s eta 0:00:01\n",
      "   --------------------------- ------------ 10.9/15.8 MB 5.5 MB/s eta 0:00:01\n",
      "   ---------------------------- ----------- 11.2/15.8 MB 5.5 MB/s eta 0:00:01\n",
      "   ---------------------------- ----------- 11.5/15.8 MB 5.5 MB/s eta 0:00:01\n",
      "   ----------------------------- ---------- 11.7/15.8 MB 5.5 MB/s eta 0:00:01\n",
      "   ------------------------------ --------- 12.0/15.8 MB 5.5 MB/s eta 0:00:01\n",
      "   ------------------------------ --------- 12.2/15.8 MB 5.5 MB/s eta 0:00:01\n",
      "   ------------------------------- -------- 12.4/15.8 MB 5.5 MB/s eta 0:00:01\n",
      "   -------------------------------- ------- 12.8/15.8 MB 5.5 MB/s eta 0:00:01\n",
      "   -------------------------------- ------- 13.0/15.8 MB 5.5 MB/s eta 0:00:01\n",
      "   --------------------------------- ------ 13.3/15.8 MB 5.5 MB/s eta 0:00:01\n",
      "   ---------------------------------- ----- 13.6/15.8 MB 5.5 MB/s eta 0:00:01\n",
      "   ----------------------------------- ---- 14.0/15.8 MB 5.5 MB/s eta 0:00:01\n",
      "   ------------------------------------ --- 14.3/15.8 MB 5.6 MB/s eta 0:00:01\n",
      "   ------------------------------------ --- 14.5/15.8 MB 5.5 MB/s eta 0:00:01\n",
      "   ------------------------------------- -- 14.7/15.8 MB 5.4 MB/s eta 0:00:01\n",
      "   ------------------------------------- -- 15.0/15.8 MB 5.5 MB/s eta 0:00:01\n",
      "   -------------------------------------- - 15.4/15.8 MB 5.5 MB/s eta 0:00:01\n",
      "   ---------------------------------------  15.6/15.8 MB 5.5 MB/s eta 0:00:01\n",
      "   ---------------------------------------  15.8/15.8 MB 5.5 MB/s eta 0:00:01\n",
      "   ---------------------------------------  15.8/15.8 MB 5.5 MB/s eta 0:00:01\n",
      "   ---------------------------------------- 15.8/15.8 MB 5.2 MB/s eta 0:00:00\n",
      "Using cached pandas-2.2.0-cp310-cp310-win_amd64.whl (11.6 MB)\n",
      "Downloading pytz-2024.1-py2.py3-none-any.whl (505 kB)\n",
      "   ---------------------------------------- 0.0/505.5 kB ? eta -:--:--\n",
      "   ------------------------ --------------- 307.2/505.5 kB 9.6 MB/s eta 0:00:01\n",
      "   ---------------------------------------- 505.5/505.5 kB 5.3 MB/s eta 0:00:00\n",
      "Using cached tzdata-2023.4-py2.py3-none-any.whl (346 kB)\n",
      "Installing collected packages: pytz, tzdata, numpy, pandas\n",
      "Successfully installed numpy-1.26.4 pandas-2.2.0 pytz-2024.1 tzdata-2023.4\n"
     ]
    }
   ],
   "source": [
    "!pip install numpy pandas"
   ]
  },
  {
   "cell_type": "code",
   "execution_count": 2,
   "metadata": {},
   "outputs": [],
   "source": [
    "import numpy as np"
   ]
  },
  {
   "cell_type": "code",
   "execution_count": 4,
   "metadata": {},
   "outputs": [
    {
     "data": {
      "text/plain": [
       "[1, 2, 3, 4, 5]"
      ]
     },
     "execution_count": 4,
     "metadata": {},
     "output_type": "execute_result"
    }
   ],
   "source": [
    "A = [1,2,3,4,5,]\n",
    "A"
   ]
  },
  {
   "cell_type": "code",
   "execution_count": 7,
   "metadata": {},
   "outputs": [
    {
     "data": {
      "text/plain": [
       "array([1, 2, 3, 4, 5])"
      ]
     },
     "execution_count": 7,
     "metadata": {},
     "output_type": "execute_result"
    }
   ],
   "source": [
    "B = np.array([1,2,3,4,5,])\n",
    "B"
   ]
  },
  {
   "cell_type": "code",
   "execution_count": 9,
   "metadata": {},
   "outputs": [
    {
     "name": "stdout",
     "output_type": "stream",
     "text": [
      "Size array A:  140\n"
     ]
    }
   ],
   "source": [
    "import sys\n",
    "# size of array\n",
    "size_array = sys.getsizeof(1) * len(A)\n",
    "print(\"Size array A: \", size_array)"
   ]
  },
  {
   "cell_type": "code",
   "execution_count": 11,
   "metadata": {},
   "outputs": [
    {
     "name": "stdout",
     "output_type": "stream",
     "text": [
      "Size numpy:  20\n"
     ]
    }
   ],
   "source": [
    "#size of numpy array\n",
    "size_numpy = B.itemsize * B.size\n",
    "print(\"Size numpy: \", size_numpy)"
   ]
  },
  {
   "cell_type": "code",
   "execution_count": 18,
   "metadata": {},
   "outputs": [
    {
     "data": {
      "text/plain": [
       "array([[ 1,  2,  3,  4,  5],\n",
       "       [ 6,  7,  8,  9, 10]])"
      ]
     },
     "execution_count": 18,
     "metadata": {},
     "output_type": "execute_result"
    }
   ],
   "source": [
    "# A matrix of 2 x 5\n",
    "A = np.array([\n",
    "    [1,2,3,4,5,],\n",
    "    [6,7,8,9,10]\n",
    "])\n",
    "A"
   ]
  },
  {
   "cell_type": "code",
   "execution_count": 19,
   "metadata": {},
   "outputs": [
    {
     "data": {
      "text/plain": [
       "(2, 5)"
      ]
     },
     "execution_count": 19,
     "metadata": {},
     "output_type": "execute_result"
    }
   ],
   "source": [
    "A.shape"
   ]
  },
  {
   "cell_type": "code",
   "execution_count": 20,
   "metadata": {},
   "outputs": [
    {
     "data": {
      "text/plain": [
       "array([ 1,  2,  3,  4,  5,  6,  7,  8,  9, 10])"
      ]
     },
     "execution_count": 20,
     "metadata": {},
     "output_type": "execute_result"
    }
   ],
   "source": [
    "# Flatten convierte cualquier lector en una sola dimensión\n",
    "A.flatten()"
   ]
  },
  {
   "cell_type": "code",
   "execution_count": 22,
   "metadata": {},
   "outputs": [
    {
     "data": {
      "text/plain": [
       "(10,)"
      ]
     },
     "execution_count": 22,
     "metadata": {},
     "output_type": "execute_result"
    }
   ],
   "source": [
    "# Por lo tanto la shape del array A cambia a (10,)\n",
    "A.flatten().shape"
   ]
  },
  {
   "cell_type": "code",
   "execution_count": 23,
   "metadata": {},
   "outputs": [
    {
     "data": {
      "text/plain": [
       "array([[ 1,  2],\n",
       "       [ 3,  4],\n",
       "       [ 5,  6],\n",
       "       [ 7,  8],\n",
       "       [ 9, 10]])"
      ]
     },
     "execution_count": 23,
     "metadata": {},
     "output_type": "execute_result"
    }
   ],
   "source": [
    "# Reshape siempre necesita argumentos para funcionar, permite reordenar matrices en las dimensiones dadas\n",
    "A.reshape(5,2)"
   ]
  },
  {
   "cell_type": "code",
   "execution_count": 26,
   "metadata": {},
   "outputs": [
    {
     "data": {
      "text/plain": [
       "array([[ 1,  2,  3,  4,  5],\n",
       "       [ 6,  7,  8,  9, 10]])"
      ]
     },
     "execution_count": 26,
     "metadata": {},
     "output_type": "execute_result"
    }
   ],
   "source": [
    "# Reshape funciona como un comodín, le indica a numpy que no importa cuántas filas tenga, siempre y cuando se cumplan las columnas especificadas\n",
    "# Viceversa también aplica\n",
    "A.reshape(-1,5)"
   ]
  },
  {
   "cell_type": "code",
   "execution_count": 27,
   "metadata": {},
   "outputs": [
    {
     "data": {
      "text/plain": [
       "array([[ 1,  2],\n",
       "       [ 3,  4],\n",
       "       [ 5,  6],\n",
       "       [ 7,  8],\n",
       "       [ 9, 10]])"
      ]
     },
     "execution_count": 27,
     "metadata": {},
     "output_type": "execute_result"
    }
   ],
   "source": [
    "A.reshape(-1,2)"
   ]
  },
  {
   "cell_type": "code",
   "execution_count": 33,
   "metadata": {},
   "outputs": [
    {
     "data": {
      "text/plain": [
       "array([[[ 1],\n",
       "        [ 2]],\n",
       "\n",
       "       [[ 3],\n",
       "        [ 4]],\n",
       "\n",
       "       [[ 5],\n",
       "        [ 6]],\n",
       "\n",
       "       [[ 7],\n",
       "        [ 8]],\n",
       "\n",
       "       [[ 9],\n",
       "        [10]]])"
      ]
     },
     "execution_count": 33,
     "metadata": {},
     "output_type": "execute_result"
    }
   ],
   "source": [
    "A.reshape(5,-1,1)"
   ]
  },
  {
   "cell_type": "code",
   "execution_count": 37,
   "metadata": {},
   "outputs": [
    {
     "data": {
      "text/plain": [
       "(100,)"
      ]
     },
     "execution_count": 37,
     "metadata": {},
     "output_type": "execute_result"
    }
   ],
   "source": [
    "B = np.arange(0,100)\n",
    "B.shape"
   ]
  },
  {
   "cell_type": "code",
   "execution_count": 38,
   "metadata": {},
   "outputs": [
    {
     "data": {
      "text/plain": [
       "array([[ 0,  1,  2,  3,  4,  5,  6,  7,  8,  9],\n",
       "       [10, 11, 12, 13, 14, 15, 16, 17, 18, 19],\n",
       "       [20, 21, 22, 23, 24, 25, 26, 27, 28, 29],\n",
       "       [30, 31, 32, 33, 34, 35, 36, 37, 38, 39],\n",
       "       [40, 41, 42, 43, 44, 45, 46, 47, 48, 49],\n",
       "       [50, 51, 52, 53, 54, 55, 56, 57, 58, 59],\n",
       "       [60, 61, 62, 63, 64, 65, 66, 67, 68, 69],\n",
       "       [70, 71, 72, 73, 74, 75, 76, 77, 78, 79],\n",
       "       [80, 81, 82, 83, 84, 85, 86, 87, 88, 89],\n",
       "       [90, 91, 92, 93, 94, 95, 96, 97, 98, 99]])"
      ]
     },
     "execution_count": 38,
     "metadata": {},
     "output_type": "execute_result"
    }
   ],
   "source": [
    "B.reshape(10,10)"
   ]
  },
  {
   "cell_type": "code",
   "execution_count": 40,
   "metadata": {},
   "outputs": [
    {
     "data": {
      "text/plain": [
       "array([[0., 0.],\n",
       "       [0., 0.],\n",
       "       [0., 0.],\n",
       "       [0., 0.],\n",
       "       [0., 0.],\n",
       "       [0., 0.],\n",
       "       [0., 0.],\n",
       "       [0., 0.],\n",
       "       [0., 0.],\n",
       "       [0., 0.]])"
      ]
     },
     "execution_count": 40,
     "metadata": {},
     "output_type": "execute_result"
    }
   ],
   "source": [
    "zeros = np.zeros([10,2])\n",
    "zeros"
   ]
  },
  {
   "cell_type": "code",
   "execution_count": 41,
   "metadata": {},
   "outputs": [
    {
     "data": {
      "text/plain": [
       "array([1., 1., 1., 1., 1., 1., 1., 1., 1., 1.])"
      ]
     },
     "execution_count": 41,
     "metadata": {},
     "output_type": "execute_result"
    }
   ],
   "source": [
    "ones = np.ones([10])\n",
    "ones"
   ]
  },
  {
   "cell_type": "code",
   "execution_count": 42,
   "metadata": {},
   "outputs": [
    {
     "data": {
      "text/plain": [
       "[1, 2, 3, 1, 2, 3]"
      ]
     },
     "execution_count": 42,
     "metadata": {},
     "output_type": "execute_result"
    }
   ],
   "source": [
    "# Python interpreta las listas como un string\n",
    "A = [1,2,3,]\n",
    "A * 2"
   ]
  },
  {
   "cell_type": "code",
   "execution_count": 43,
   "metadata": {},
   "outputs": [
    {
     "data": {
      "text/plain": [
       "array([2, 4, 6])"
      ]
     },
     "execution_count": 43,
     "metadata": {},
     "output_type": "execute_result"
    }
   ],
   "source": [
    "A = np.array([1,2,3,])\n",
    "A * 2"
   ]
  },
  {
   "cell_type": "code",
   "execution_count": 46,
   "metadata": {},
   "outputs": [
    {
     "data": {
      "text/plain": [
       "array([5, 7, 9])"
      ]
     },
     "execution_count": 46,
     "metadata": {},
     "output_type": "execute_result"
    }
   ],
   "source": [
    "B = np.array([4,5,6,])\n",
    "A+B"
   ]
  },
  {
   "cell_type": "code",
   "execution_count": 47,
   "metadata": {},
   "outputs": [
    {
     "name": "stdout",
     "output_type": "stream",
     "text": [
      "[1 2 3] [4 5 6]\n"
     ]
    },
    {
     "data": {
      "text/plain": [
       "array([ 4, 10, 18])"
      ]
     },
     "execution_count": 47,
     "metadata": {},
     "output_type": "execute_result"
    }
   ],
   "source": [
    "print(A,B)\n",
    "A*B"
   ]
  },
  {
   "cell_type": "code",
   "execution_count": 48,
   "metadata": {},
   "outputs": [
    {
     "data": {
      "text/plain": [
       "array([[1., 0., 0., 0., 0., 0., 0., 0., 0., 0.],\n",
       "       [0., 1., 0., 0., 0., 0., 0., 0., 0., 0.],\n",
       "       [0., 0., 1., 0., 0., 0., 0., 0., 0., 0.],\n",
       "       [0., 0., 0., 1., 0., 0., 0., 0., 0., 0.],\n",
       "       [0., 0., 0., 0., 1., 0., 0., 0., 0., 0.],\n",
       "       [0., 0., 0., 0., 0., 1., 0., 0., 0., 0.],\n",
       "       [0., 0., 0., 0., 0., 0., 1., 0., 0., 0.],\n",
       "       [0., 0., 0., 0., 0., 0., 0., 1., 0., 0.],\n",
       "       [0., 0., 0., 0., 0., 0., 0., 0., 1., 0.],\n",
       "       [0., 0., 0., 0., 0., 0., 0., 0., 0., 1.]])"
      ]
     },
     "execution_count": 48,
     "metadata": {},
     "output_type": "execute_result"
    }
   ],
   "source": [
    "np.identity(10)"
   ]
  },
  {
   "cell_type": "code",
   "execution_count": 49,
   "metadata": {},
   "outputs": [
    {
     "data": {
      "text/plain": [
       "2.0"
      ]
     },
     "execution_count": 49,
     "metadata": {},
     "output_type": "execute_result"
    }
   ],
   "source": [
    "np.mean(A)"
   ]
  },
  {
   "cell_type": "code",
   "execution_count": 50,
   "metadata": {},
   "outputs": [
    {
     "data": {
      "text/plain": [
       "2.0"
      ]
     },
     "execution_count": 50,
     "metadata": {},
     "output_type": "execute_result"
    }
   ],
   "source": [
    "np.median(A)"
   ]
  },
  {
   "cell_type": "code",
   "execution_count": 51,
   "metadata": {},
   "outputs": [
    {
     "data": {
      "text/plain": [
       "(array([3, 4, 5], dtype=int64),)"
      ]
     },
     "execution_count": 51,
     "metadata": {},
     "output_type": "execute_result"
    }
   ],
   "source": [
    "# np.where nos permite obtener los índices de aquellos elementos del array que cumplen con la condición dada\n",
    "A = np.array([1,2,0,4,5,6,])\n",
    "C = np.where(A>2)\n",
    "C"
   ]
  },
  {
   "cell_type": "markdown",
   "metadata": {},
   "source": [
    "# Dot Product"
   ]
  },
  {
   "cell_type": "code",
   "execution_count": 52,
   "metadata": {},
   "outputs": [],
   "source": [
    "def dot_product(a,b):\n",
    "    result = 0\n",
    "    for i in range(len(a)):\n",
    "        result = result + a[i]*b[i]\n",
    "    return result"
   ]
  },
  {
   "cell_type": "code",
   "execution_count": 62,
   "metadata": {},
   "outputs": [
    {
     "name": "stdout",
     "output_type": "stream",
     "text": [
      "-3202.3255285396394\n"
     ]
    }
   ],
   "source": [
    "a = np.random.randn(10000000)\n",
    "b = np.random.randn(10000000)\n",
    "print(dot_product(a,b))"
   ]
  },
  {
   "cell_type": "code",
   "execution_count": 63,
   "metadata": {},
   "outputs": [
    {
     "name": "stdout",
     "output_type": "stream",
     "text": [
      "total time:  4.435487985610962\n"
     ]
    }
   ],
   "source": [
    "import time \n",
    "\n",
    "start = time.time()\n",
    "\n",
    "dot_product(a,b)\n",
    "\n",
    "total = time.time() - start\n",
    "print(\"total time: \", total)"
   ]
  },
  {
   "cell_type": "code",
   "execution_count": 76,
   "metadata": {},
   "outputs": [
    {
     "name": "stdout",
     "output_type": "stream",
     "text": [
      "-3202.3255285401083\n",
      "total time:  0.009476184844970703\n"
     ]
    }
   ],
   "source": [
    "# Numpy es mucho más rápido multiplicando arrays\n",
    "start = time.time()\n",
    "\n",
    "print(np.dot(a,b))\n",
    "\n",
    "total = time.time() - start\n",
    "print(\"total time: \", total)"
   ]
  }
 ],
 "metadata": {
  "kernelspec": {
   "display_name": "iteso",
   "language": "python",
   "name": "python3"
  },
  "language_info": {
   "codemirror_mode": {
    "name": "ipython",
    "version": 3
   },
   "file_extension": ".py",
   "mimetype": "text/x-python",
   "name": "python",
   "nbconvert_exporter": "python",
   "pygments_lexer": "ipython3",
   "version": "3.10.13"
  }
 },
 "nbformat": 4,
 "nbformat_minor": 2
}
